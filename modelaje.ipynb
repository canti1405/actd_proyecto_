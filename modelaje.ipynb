{
 "cells": [
  {
   "cell_type": "code",
   "execution_count": 1,
   "metadata": {},
   "outputs": [],
   "source": [
    "import pandas as pd\n",
    "from sklearn.model_selection import train_test_split\n",
    "from sklearn.preprocessing import StandardScaler\n",
    "from sklearn.linear_model import LogisticRegression\n",
    "from sklearn.ensemble import RandomForestClassifier\n",
    "from sklearn.neural_network import MLPClassifier\n",
    "from sklearn.metrics import accuracy_score, confusion_matrix, classification_report\n",
    "import mlflow\n",
    "import mlflow.sklearn\n",
    "\n",
    "# Carga\n",
    "df = pd.read_excel(\"datos_utiles.xlsx\")\n"
   ]
  },
  {
   "cell_type": "code",
   "execution_count": 2,
   "metadata": {},
   "outputs": [],
   "source": [
    "# Variables predictoras y objetivo\n",
    "X = df.drop(columns=\"es_elegible_beca\")\n",
    "y = df[\"es_elegible_beca\"]"
   ]
  },
  {
   "cell_type": "code",
   "execution_count": 4,
   "metadata": {},
   "outputs": [],
   "source": [
    "from sklearn.compose import ColumnTransformer\n",
    "from sklearn.preprocessing import StandardScaler, OneHotEncoder\n",
    "from sklearn.model_selection import train_test_split\n",
    "\n",
    "# Identificar tipos de columnas\n",
    "numericas = X.select_dtypes(include=['int64', 'float64']).columns.tolist()\n",
    "categoricas = X.select_dtypes(include=['object']).columns.tolist()\n",
    "\n",
    "# Preprocesamiento\n",
    "preprocesamiento = ColumnTransformer(transformers=[('num', StandardScaler(), numericas),('cat', OneHotEncoder(handle_unknown='ignore'), categoricas)])\n",
    "# División de datos\n",
    "X_train, X_test, y_train, y_test = train_test_split(X, y, stratify=y, test_size=0.3, random_state=42)"
   ]
  },
  {
   "cell_type": "code",
   "execution_count": 5,
   "metadata": {},
   "outputs": [],
   "source": [
    "# Configuración de MLflow\n",
    "mlflow.set_tracking_uri(\"http://localhost:5000\")\n",
    "experiment = mlflow.set_experiment(\"becas_elegibilidad_modelos\")"
   ]
  },
  {
   "cell_type": "code",
   "execution_count": 15,
   "metadata": {},
   "outputs": [],
   "source": [
    "modelos = {\n",
    "    \"Red Neuronal (100,)\": MLPClassifier(hidden_layer_sizes=(100,),activation='relu', max_iter=300, batch_size=256,solver='adam',early_stopping=True, random_state=42),\n",
    "    \"Red Neuronal (100,50)\": MLPClassifier(hidden_layer_sizes=(100,50),activation='relu', max_iter=300, batch_size=256,solver='adam',early_stopping=True, random_state=42),\n",
    "    \"Red Neuronal (128, 64, 32)\": MLPClassifier(hidden_layer_sizes=(128, 64, 32),activation='relu', max_iter=300, batch_size=256,solver='adam',early_stopping=True, random_state=42)\n",
    "}"
   ]
  },
  {
   "cell_type": "code",
   "execution_count": 16,
   "metadata": {},
   "outputs": [
    {
     "name": "stdout",
     "output_type": "stream",
     "text": [
      "\n",
      "📘 Red Neuronal (100,)\n",
      "Matriz de Confusión:\n",
      " [[162273     73]\n",
      " [   159   5882]]\n",
      "Reporte de Clasificación:\n",
      "               precision    recall  f1-score   support\n",
      "\n",
      "           0       1.00      1.00      1.00    162346\n",
      "           1       0.99      0.97      0.98      6041\n",
      "\n",
      "    accuracy                           1.00    168387\n",
      "   macro avg       0.99      0.99      0.99    168387\n",
      "weighted avg       1.00      1.00      1.00    168387\n",
      "\n"
     ]
    },
    {
     "name": "stderr",
     "output_type": "stream",
     "text": [
      "\u001b[31m2025/05/25 12:22:04 WARNING mlflow.models.model: Model logged without a signature and input example. Please set `input_example` parameter when logging the model to auto infer the model signature.\u001b[0m\n"
     ]
    },
    {
     "name": "stdout",
     "output_type": "stream",
     "text": [
      "🏃 View run Red Neuronal (100,) at: http://localhost:5000/#/experiments/645130807814833189/runs/ce9b2891a67949eb9a61e8b94aa2db31\n",
      "🧪 View experiment at: http://localhost:5000/#/experiments/645130807814833189\n",
      "\n",
      "📘 Red Neuronal (100,50)\n",
      "Matriz de Confusión:\n",
      " [[162233    113]\n",
      " [   173   5868]]\n",
      "Reporte de Clasificación:\n",
      "               precision    recall  f1-score   support\n",
      "\n",
      "           0       1.00      1.00      1.00    162346\n",
      "           1       0.98      0.97      0.98      6041\n",
      "\n",
      "    accuracy                           1.00    168387\n",
      "   macro avg       0.99      0.99      0.99    168387\n",
      "weighted avg       1.00      1.00      1.00    168387\n",
      "\n"
     ]
    },
    {
     "name": "stderr",
     "output_type": "stream",
     "text": [
      "\u001b[31m2025/05/25 12:23:34 WARNING mlflow.models.model: Model logged without a signature and input example. Please set `input_example` parameter when logging the model to auto infer the model signature.\u001b[0m\n"
     ]
    },
    {
     "name": "stdout",
     "output_type": "stream",
     "text": [
      "🏃 View run Red Neuronal (100,50) at: http://localhost:5000/#/experiments/645130807814833189/runs/eac86ebf1a3a4f5889e8de1c52b651d8\n",
      "🧪 View experiment at: http://localhost:5000/#/experiments/645130807814833189\n",
      "\n",
      "📘 Red Neuronal (128, 64, 32)\n",
      "Matriz de Confusión:\n",
      " [[162187    159]\n",
      " [   129   5912]]\n",
      "Reporte de Clasificación:\n",
      "               precision    recall  f1-score   support\n",
      "\n",
      "           0       1.00      1.00      1.00    162346\n",
      "           1       0.97      0.98      0.98      6041\n",
      "\n",
      "    accuracy                           1.00    168387\n",
      "   macro avg       0.99      0.99      0.99    168387\n",
      "weighted avg       1.00      1.00      1.00    168387\n",
      "\n"
     ]
    },
    {
     "name": "stderr",
     "output_type": "stream",
     "text": [
      "\u001b[31m2025/05/25 12:24:55 WARNING mlflow.models.model: Model logged without a signature and input example. Please set `input_example` parameter when logging the model to auto infer the model signature.\u001b[0m\n"
     ]
    },
    {
     "name": "stdout",
     "output_type": "stream",
     "text": [
      "🏃 View run Red Neuronal (128, 64, 32) at: http://localhost:5000/#/experiments/645130807814833189/runs/d650cd2722484778b5df22c725331517\n",
      "🧪 View experiment at: http://localhost:5000/#/experiments/645130807814833189\n"
     ]
    }
   ],
   "source": [
    "from sklearn.pipeline import Pipeline\n",
    "from sklearn.metrics import accuracy_score, precision_score, recall_score, f1_score, roc_auc_score\n",
    "for nombre_modelo, modelo in modelos.items():\n",
    "    with mlflow.start_run(experiment_id=experiment.experiment_id, run_name=nombre_modelo):\n",
    "        pipeline = Pipeline(steps=[\n",
    "            ('preprocesamiento', preprocesamiento),\n",
    "            ('modelo', modelo)\n",
    "        ])\n",
    "        pipeline.fit(X_train, y_train)\n",
    "        y_pred = pipeline.predict(X_test)\n",
    "\n",
    "        acc = accuracy_score(y_test, y_pred)\n",
    "        cm = confusion_matrix(y_test, y_pred)\n",
    "        reporte = classification_report(y_test, y_pred)\n",
    "\n",
    "        print(f\"\\n📘 {nombre_modelo}\")\n",
    "        print(\"Matriz de Confusión:\\n\", cm)\n",
    "        print(\"Reporte de Clasificación:\\n\", reporte)\n",
    "\n",
    "        mlflow.log_param(\"modelo\", nombre_modelo)\n",
    "        mlflow.log_metric(\"accuracy\", acc)\n",
    "        mlflow.log_metric(\"precision\",accuracy_score(y_test,y_pred))\n",
    "        mlflow.log_metric(\"recall\",recall_score(y_test, y_pred, zero_division=0))\n",
    "        mlflow.sklearn.log_model(pipeline, f\"modelo_{nombre_modelo.replace(' ', '_').lower()}\")"
   ]
  },
  {
   "cell_type": "code",
   "execution_count": 17,
   "metadata": {},
   "outputs": [
    {
     "name": "stderr",
     "output_type": "stream",
     "text": [
      "2025/05/25 12:30:33 INFO mlflow.tracking.fluent: Experiment with name 'modelo_final' does not exist. Creating a new experiment.\n"
     ]
    }
   ],
   "source": [
    "#modelo final\n",
    "# Configuración de MLflow\n",
    "mlflow.set_tracking_uri(\"http://localhost:5000\")\n",
    "experiment = mlflow.set_experiment(\"modelo_final\")\n",
    "modelo_final = {\n",
    "    \"Red Neuronal (128, 64, 32)\": MLPClassifier(hidden_layer_sizes=(128, 64, 32),activation='relu', max_iter=300, batch_size=256,solver='adam',early_stopping=True, random_state=42)\n",
    "}"
   ]
  },
  {
   "cell_type": "code",
   "execution_count": 18,
   "metadata": {},
   "outputs": [
    {
     "name": "stdout",
     "output_type": "stream",
     "text": [
      "\n",
      "📘 Red Neuronal (128, 64, 32)\n",
      "Matriz de Confusión:\n",
      " [[162187    159]\n",
      " [   129   5912]]\n",
      "Reporte de Clasificación:\n",
      "               precision    recall  f1-score   support\n",
      "\n",
      "           0       1.00      1.00      1.00    162346\n",
      "           1       0.97      0.98      0.98      6041\n",
      "\n",
      "    accuracy                           1.00    168387\n",
      "   macro avg       0.99      0.99      0.99    168387\n",
      "weighted avg       1.00      1.00      1.00    168387\n",
      "\n"
     ]
    },
    {
     "name": "stderr",
     "output_type": "stream",
     "text": [
      "\u001b[31m2025/05/25 12:32:08 WARNING mlflow.models.model: Model logged without a signature and input example. Please set `input_example` parameter when logging the model to auto infer the model signature.\u001b[0m\n"
     ]
    },
    {
     "name": "stdout",
     "output_type": "stream",
     "text": [
      "🏃 View run Red Neuronal (128, 64, 32) at: http://localhost:5000/#/experiments/991763802603381987/runs/c0b2e6561482421d977fa0da288c9aec\n",
      "🧪 View experiment at: http://localhost:5000/#/experiments/991763802603381987\n"
     ]
    }
   ],
   "source": [
    "from sklearn.pipeline import Pipeline\n",
    "from sklearn.metrics import accuracy_score, precision_score, recall_score, f1_score, roc_auc_score\n",
    "for nombre_modelo, modelo in modelo_final.items():\n",
    "    with mlflow.start_run(experiment_id=experiment.experiment_id, run_name=nombre_modelo):\n",
    "        pipeline = Pipeline(steps=[\n",
    "            ('preprocesamiento', preprocesamiento),\n",
    "            ('modelo', modelo)\n",
    "        ])\n",
    "        pipeline.fit(X_train, y_train)\n",
    "        y_pred = pipeline.predict(X_test)\n",
    "\n",
    "        acc = accuracy_score(y_test, y_pred)\n",
    "        cm = confusion_matrix(y_test, y_pred)\n",
    "        reporte = classification_report(y_test, y_pred)\n",
    "\n",
    "        print(f\"\\n📘 {nombre_modelo}\")\n",
    "        print(\"Matriz de Confusión:\\n\", cm)\n",
    "        print(\"Reporte de Clasificación:\\n\", reporte)\n",
    "\n",
    "        mlflow.log_param(\"modelo\", nombre_modelo)\n",
    "        mlflow.log_metric(\"accuracy\", acc)\n",
    "        mlflow.log_metric(\"precision\",accuracy_score(y_test,y_pred))\n",
    "        mlflow.log_metric(\"recall\",recall_score(y_test, y_pred, zero_division=0))\n",
    "        mlflow.sklearn.log_model(pipeline, f\"modelo_{nombre_modelo.replace(' ', '_').lower()}\")"
   ]
  }
 ],
 "metadata": {
  "kernelspec": {
   "display_name": "Python 3",
   "language": "python",
   "name": "python3"
  },
  "language_info": {
   "codemirror_mode": {
    "name": "ipython",
    "version": 3
   },
   "file_extension": ".py",
   "mimetype": "text/x-python",
   "name": "python",
   "nbconvert_exporter": "python",
   "pygments_lexer": "ipython3",
   "version": "3.11.0"
  }
 },
 "nbformat": 4,
 "nbformat_minor": 2
}
