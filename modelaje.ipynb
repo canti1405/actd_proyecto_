{
 "cells": [
  {
   "cell_type": "code",
   "execution_count": 1,
   "metadata": {},
   "outputs": [],
   "source": [
    "import pandas as pd\n",
    "from sklearn.model_selection import train_test_split\n",
    "from sklearn.preprocessing import StandardScaler\n",
    "from sklearn.linear_model import LogisticRegression\n",
    "from sklearn.ensemble import RandomForestClassifier\n",
    "from sklearn.neural_network import MLPClassifier\n",
    "from sklearn.metrics import accuracy_score, confusion_matrix, classification_report\n",
    "import mlflow\n",
    "import mlflow.sklearn\n",
    "\n",
    "# Carga\n",
    "df = pd.read_excel(\"datos_utiles.xlsx\")\n"
   ]
  },
  {
   "cell_type": "code",
   "execution_count": 2,
   "metadata": {},
   "outputs": [],
   "source": [
    "# Variables predictoras y objetivo\n",
    "X = df.drop(columns=\"es_elegible_jovenes_u\")\n",
    "y = df[\"es_elegible_jovenes_u\"]"
   ]
  },
  {
   "cell_type": "code",
   "execution_count": 6,
   "metadata": {},
   "outputs": [],
   "source": [
    "from sklearn.compose import ColumnTransformer\n",
    "from sklearn.preprocessing import StandardScaler, OneHotEncoder\n",
    "from sklearn.model_selection import train_test_split\n",
    "\n",
    "# Separar variables predictoras y objetivo\n",
    "X = df.drop(columns=[\"es_elegible_jovenes_u\"])\n",
    "y = df[\"es_elegible_jovenes_u\"]\n",
    "\n",
    "# Identificar tipos de columnas\n",
    "numericas = X.select_dtypes(include=['int64', 'float64']).columns.tolist()\n",
    "categoricas = X.select_dtypes(include=['object']).columns.tolist()\n",
    "\n",
    "# Preprocesamiento\n",
    "preprocesamiento = ColumnTransformer(transformers=[('num', StandardScaler(), numericas),('cat', OneHotEncoder(handle_unknown='ignore'), categoricas)])\n",
    "# División de datos\n",
    "X_train, X_test, y_train, y_test = train_test_split(X, y, stratify=y, test_size=0.3, random_state=42)"
   ]
  },
  {
   "cell_type": "code",
   "execution_count": 7,
   "metadata": {},
   "outputs": [],
   "source": [
    "# Configuración de MLflow\n",
    "mlflow.set_tracking_uri(\"http://localhost:5000\")\n",
    "experiment = mlflow.set_experiment(\"becas_elegibilidad_modelos\")"
   ]
  },
  {
   "cell_type": "code",
   "execution_count": 10,
   "metadata": {},
   "outputs": [],
   "source": [
    "modelos = {\n",
    "    \"Regresión Logística\": LogisticRegression(max_iter=500),\n",
    "    \"Random Forest\": RandomForestClassifier(n_estimators=200),\n",
    "    \"Red Neuronal\": MLPClassifier(hidden_layer_sizes=(100, 50), max_iter=100, batch_size=512)\n",
    "}"
   ]
  },
  {
   "cell_type": "code",
   "execution_count": 12,
   "metadata": {},
   "outputs": [
    {
     "name": "stdout",
     "output_type": "stream",
     "text": [
      "\n",
      "📘 Regresión Logística\n",
      "Matriz de Confusión:\n",
      " [[162877     96]\n",
      " [     0   5414]]\n",
      "Reporte de Clasificación:\n",
      "               precision    recall  f1-score   support\n",
      "\n",
      "           0       1.00      1.00      1.00    162973\n",
      "           1       0.98      1.00      0.99      5414\n",
      "\n",
      "    accuracy                           1.00    168387\n",
      "   macro avg       0.99      1.00      1.00    168387\n",
      "weighted avg       1.00      1.00      1.00    168387\n",
      "\n"
     ]
    },
    {
     "name": "stderr",
     "output_type": "stream",
     "text": [
      "\u001b[31m2025/05/24 21:10:56 WARNING mlflow.models.model: Model logged without a signature and input example. Please set `input_example` parameter when logging the model to auto infer the model signature.\u001b[0m\n"
     ]
    },
    {
     "name": "stdout",
     "output_type": "stream",
     "text": [
      "🏃 View run Regresión Logística at: http://localhost:5000/#/experiments/645130807814833189/runs/b2817a057122458f9a681f93ed311717\n",
      "🧪 View experiment at: http://localhost:5000/#/experiments/645130807814833189\n",
      "\n",
      "📘 Random Forest\n",
      "Matriz de Confusión:\n",
      " [[162971      2]\n",
      " [     0   5414]]\n",
      "Reporte de Clasificación:\n",
      "               precision    recall  f1-score   support\n",
      "\n",
      "           0       1.00      1.00      1.00    162973\n",
      "           1       1.00      1.00      1.00      5414\n",
      "\n",
      "    accuracy                           1.00    168387\n",
      "   macro avg       1.00      1.00      1.00    168387\n",
      "weighted avg       1.00      1.00      1.00    168387\n",
      "\n"
     ]
    },
    {
     "name": "stderr",
     "output_type": "stream",
     "text": [
      "\u001b[31m2025/05/24 21:11:32 WARNING mlflow.models.model: Model logged without a signature and input example. Please set `input_example` parameter when logging the model to auto infer the model signature.\u001b[0m\n"
     ]
    },
    {
     "name": "stdout",
     "output_type": "stream",
     "text": [
      "🏃 View run Random Forest at: http://localhost:5000/#/experiments/645130807814833189/runs/2811fcd9bc8948c79015de9cda955553\n",
      "🧪 View experiment at: http://localhost:5000/#/experiments/645130807814833189\n",
      "\n",
      "📘 Red Neuronal\n",
      "Matriz de Confusión:\n",
      " [[162973      0]\n",
      " [     3   5411]]\n",
      "Reporte de Clasificación:\n",
      "               precision    recall  f1-score   support\n",
      "\n",
      "           0       1.00      1.00      1.00    162973\n",
      "           1       1.00      1.00      1.00      5414\n",
      "\n",
      "    accuracy                           1.00    168387\n",
      "   macro avg       1.00      1.00      1.00    168387\n",
      "weighted avg       1.00      1.00      1.00    168387\n",
      "\n"
     ]
    },
    {
     "name": "stderr",
     "output_type": "stream",
     "text": [
      "\u001b[31m2025/05/24 21:11:58 WARNING mlflow.models.model: Model logged without a signature and input example. Please set `input_example` parameter when logging the model to auto infer the model signature.\u001b[0m\n"
     ]
    },
    {
     "name": "stdout",
     "output_type": "stream",
     "text": [
      "🏃 View run Red Neuronal at: http://localhost:5000/#/experiments/645130807814833189/runs/efc642547bcc4bb8b12d3bda4fbf5f82\n",
      "🧪 View experiment at: http://localhost:5000/#/experiments/645130807814833189\n"
     ]
    }
   ],
   "source": [
    "from sklearn.pipeline import Pipeline\n",
    "for nombre_modelo, modelo in modelos.items():\n",
    "    with mlflow.start_run(experiment_id=experiment.experiment_id, run_name=nombre_modelo):\n",
    "        pipeline = Pipeline(steps=[\n",
    "            ('preprocesamiento', preprocesamiento),\n",
    "            ('modelo', modelo)\n",
    "        ])\n",
    "        pipeline.fit(X_train, y_train)\n",
    "        y_pred = pipeline.predict(X_test)\n",
    "\n",
    "        acc = accuracy_score(y_test, y_pred)\n",
    "        cm = confusion_matrix(y_test, y_pred)\n",
    "        reporte = classification_report(y_test, y_pred)\n",
    "\n",
    "        print(f\"\\n📘 {nombre_modelo}\")\n",
    "        print(\"Matriz de Confusión:\\n\", cm)\n",
    "        print(\"Reporte de Clasificación:\\n\", reporte)\n",
    "\n",
    "        mlflow.log_param(\"modelo\", nombre_modelo)\n",
    "        mlflow.log_metric(\"accuracy\", acc)\n",
    "        mlflow.sklearn.log_model(pipeline, f\"modelo_{nombre_modelo.replace(' ', '_').lower()}\")"
   ]
  }
 ],
 "metadata": {
  "kernelspec": {
   "display_name": "Python 3",
   "language": "python",
   "name": "python3"
  },
  "language_info": {
   "codemirror_mode": {
    "name": "ipython",
    "version": 3
   },
   "file_extension": ".py",
   "mimetype": "text/x-python",
   "name": "python",
   "nbconvert_exporter": "python",
   "pygments_lexer": "ipython3",
   "version": "3.11.0"
  }
 },
 "nbformat": 4,
 "nbformat_minor": 2
}
